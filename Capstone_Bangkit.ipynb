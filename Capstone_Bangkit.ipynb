{
  "nbformat": 4,
  "nbformat_minor": 0,
  "metadata": {
    "colab": {
      "provenance": [],
      "include_colab_link": true
    },
    "kernelspec": {
      "name": "python3",
      "display_name": "Python 3"
    },
    "language_info": {
      "name": "python"
    }
  },
  "cells": [
    {
      "cell_type": "markdown",
      "metadata": {
        "id": "view-in-github",
        "colab_type": "text"
      },
      "source": [
        "<a href=\"https://colab.research.google.com/github/finvalnnk14/MyBlossom/blob/branch-ml/Capstone_Bangkit.ipynb\" target=\"_parent\"><img src=\"https://colab.research.google.com/assets/colab-badge.svg\" alt=\"Open In Colab\"/></a>"
      ]
    },
    {
      "cell_type": "markdown",
      "source": [
        "# A. Import Library"
      ],
      "metadata": {
        "id": "ZBTnw_Id7XcJ"
      }
    },
    {
      "cell_type": "code",
      "execution_count": null,
      "metadata": {
        "id": "qbUe2N9pkHN-"
      },
      "outputs": [],
      "source": [
        "import numpy as np\n",
        "import pandas as pd\n",
        "import matplotlib.pyplot as plt\n",
        "import tensorflow as tf\n",
        "from tensorflow.keras.models import Sequential\n",
        "from tensorflow.keras.layers import Dense, LSTM, Dropout\n",
        "from sklearn.preprocessing import MinMaxScaler\n",
        "from sklearn.metrics import mean_squared_error\n",
        "from sklearn.metrics import mean_absolute_error\n",
        "from sklearn.metrics import r2_score\n",
        "from sklearn.metrics import explained_variance_score\n",
        "from sklearn.metrics import max_error\n",
        "# from utils.utils import generate_synthetic_data, generate_final_features, split_dataset\n",
        "import warnings\n",
        "warnings.filterwarnings(\"ignore\")\n"
      ]
    },
    {
      "cell_type": "markdown",
      "source": [
        "# B. Load Data"
      ],
      "metadata": {
        "id": "-u9DCv_z9cLd"
      }
    },
    {
      "cell_type": "code",
      "source": [
        "!pip install pendulum"
      ],
      "metadata": {
        "colab": {
          "base_uri": "https://localhost:8080/"
        },
        "id": "CTQ8xJ_aFlmE",
        "outputId": "e00b9a80-ad1d-4e15-ad42-3cd896a7a774"
      },
      "execution_count": null,
      "outputs": [
        {
          "output_type": "stream",
          "name": "stdout",
          "text": [
            "Collecting pendulum\n",
            "  Downloading pendulum-3.0.0-cp310-cp310-manylinux_2_17_x86_64.manylinux2014_x86_64.whl (384 kB)\n",
            "\u001b[?25l     \u001b[90m━━━━━━━━━━━━━━━━━━━━━━━━━━━━━━━━━━━━━━━━\u001b[0m \u001b[32m0.0/384.9 kB\u001b[0m \u001b[31m?\u001b[0m eta \u001b[36m-:--:--\u001b[0m\r\u001b[2K     \u001b[91m━━━━━━━━━━━━━━━━━━━━━━━\u001b[0m\u001b[90m╺\u001b[0m\u001b[90m━━━━━━━━━━━━━━━━\u001b[0m \u001b[32m225.3/384.9 kB\u001b[0m \u001b[31m6.7 MB/s\u001b[0m eta \u001b[36m0:00:01\u001b[0m\r\u001b[2K     \u001b[90m━━━━━━━━━━━━━━━━━━━━━━━━━━━━━━━━━━━━━━━━\u001b[0m \u001b[32m384.9/384.9 kB\u001b[0m \u001b[31m6.9 MB/s\u001b[0m eta \u001b[36m0:00:00\u001b[0m\n",
            "\u001b[?25hRequirement already satisfied: python-dateutil>=2.6 in /usr/local/lib/python3.10/dist-packages (from pendulum) (2.8.2)\n",
            "Requirement already satisfied: tzdata>=2020.1 in /usr/local/lib/python3.10/dist-packages (from pendulum) (2024.1)\n",
            "Collecting time-machine>=2.6.0 (from pendulum)\n",
            "  Downloading time_machine-2.14.1-cp310-cp310-manylinux_2_5_x86_64.manylinux1_x86_64.manylinux_2_17_x86_64.manylinux2014_x86_64.whl (34 kB)\n",
            "Requirement already satisfied: six>=1.5 in /usr/local/lib/python3.10/dist-packages (from python-dateutil>=2.6->pendulum) (1.16.0)\n",
            "Installing collected packages: time-machine, pendulum\n",
            "Successfully installed pendulum-3.0.0 time-machine-2.14.1\n"
          ]
        }
      ]
    },
    {
      "cell_type": "code",
      "source": [
        "from pendulum import DateTime\n",
        "from pendulum import duration\n",
        "import pandas as pd\n",
        "import numpy as np\n",
        "from random import randint\n",
        "from sklearn.model_selection import train_test_split\n",
        "\n",
        "def generate_synthetic_data(duration_cycle, start_day, year, start_month_index=1, number_of_cycle=5, period_duration=30, cycle_interval=[5, 6], period_interval=[26, 30]):\n",
        "    \"\"\"\n",
        "    function that generate the synthetic data\n",
        "\n",
        "        Args:\n",
        "            duration_cycle (int): duration of the cycle in days\n",
        "            start_day (int): day of the first cycle\n",
        "            year (int): year of the first cycle\n",
        "            start_month_index (int): month of the first cycle\n",
        "            number_of_cycle (int): number of cycles\n",
        "            period_duration (int): duration of the period between cycles in days\n",
        "            cycle_interval (list): interval of the duration of the cycle in days\n",
        "            period_interval (list): interval of the duration of the period between cycles in days\n",
        "\n",
        "        Return:\n",
        "            df (pd.DataFrame): dataframe with the synthetic data\n",
        "        \"\"\"\n",
        "    data_frame = pd.DataFrame(columns=['M', 'Day', 'Year', 'Duration'])\n",
        "\n",
        "    start_time = DateTime(year, start_month_index, start_day, 1, 0, 0)\n",
        "    end_time = start_time+duration(days=duration_cycle)\n",
        "\n",
        "    for _ in range(0, number_of_cycle+1):\n",
        "\n",
        "            data_frame = pd.concat([data_frame, pd.DataFrame(np.array([[start_time.month, start_time.day, start_time.year, 'Starts']]),\n",
        "                                                             columns=['M', 'Day', 'Year', 'Duration'])],  ignore_index=True, axis=0)\n",
        "\n",
        "            data_frame = pd.concat([data_frame, pd.DataFrame(np.array([[end_time.month, end_time.day, end_time.year, 'Ends']]),\n",
        "                                                             columns=['M', 'Day', 'Year', 'Duration'])],  ignore_index=True, axis=0)\n",
        "\n",
        "            #TODO(Cibely): Make the durantion_cycle and period_duration be random values\n",
        "            duration_cycle = randint(cycle_interval[0], cycle_interval[1])\n",
        "            period_duration = randint(period_interval[0], period_interval[1])\n",
        "\n",
        "            start_time = start_time+duration(days=period_duration)\n",
        "            end_time = start_time+duration(days=duration_cycle)\n",
        "\n",
        "    return data_frame\n",
        "\n",
        "\n",
        "def calculate_period_length(dates, dates_numbers):\n",
        "    \"\"\"\n",
        "    function that calculate the length of the period\n",
        "\n",
        "    Args:\n",
        "        dates (list): list of dates\n",
        "        dates_numbers (int): number of dates\n",
        "\n",
        "    Returns:\n",
        "        period_length (list): list of length of the period in days\n",
        "    \"\"\"\n",
        "    period_length = []\n",
        "    for index in range(0,dates_numbers,2):\n",
        "        period_length.append((dates[index+1] - dates[index]).days)\n",
        "\n",
        "    return period_length\n",
        "\n",
        "\n",
        "def calculate_cycle_length(dates, dates_numbers):\n",
        "    \"\"\"\n",
        "    function that calculate the length of the cycle\n",
        "\n",
        "    Args:\n",
        "        dates (list): list of dates\n",
        "        dates_numbers (int): number of dates\n",
        "\n",
        "    Returns:\n",
        "        cycle_length (list): list of length of the cycle in days\n",
        "    \"\"\"\n",
        "    cycle_length = []\n",
        "    for index in range(0,dates_numbers-2,2):\n",
        "        cycle_length.append((dates[index+2] - dates[index]).days)\n",
        "\n",
        "    return cycle_length\n",
        "\n",
        "\n",
        "def calculate_datatime(dataset):\n",
        "    \"\"\"\n",
        "    function that calculate the datetime of the dates\n",
        "\n",
        "    Args:\n",
        "        dataset (pd.DataFrame): dataframe with the data\n",
        "\n",
        "    Returns:\n",
        "        formatted_dataset (list): list with the features\n",
        "    \"\"\"\n",
        "\n",
        "    dates_format=pd.to_datetime(dict(year=dataset.Year, month=dataset.M, day=dataset.Day))\n",
        "    period_length=calculate_period_length(dates_format, len(dataset))\n",
        "    cycle=calculate_cycle_length(dates_format, len(dataset))\n",
        "\n",
        "    formatted_dataset=[]\n",
        "    index=0\n",
        "    for date_index in range(0,len(dates_format)-2,2):\n",
        "        formatted_dataset.append([dates_format[date_index].date(), cycle[index], period_length[index]])\n",
        "        index+=1\n",
        "\n",
        "    return formatted_dataset\n",
        "\n",
        "\n",
        "def prepared_the_features(periods):\n",
        "    \"\"\"\n",
        "    function that prepare the features for the prediction\n",
        "\n",
        "\n",
        "    Args:\n",
        "        periods (list): list of the periods\n",
        "\n",
        "    Returns:\n",
        "        features (np.array): array with the features\n",
        "        labels (np.array): array with the labels\n",
        "    \"\"\"\n",
        "\n",
        "    features = []\n",
        "    labels = []\n",
        "    for period in periods[:-3]:\n",
        "        p_index = periods.index(period)\n",
        "        features.append([])\n",
        "        features[-1].append([period[-2], period[-1]])\n",
        "        features[-1].append([periods[p_index + 1][-2], periods[p_index + 1][-1]])\n",
        "        features[-1].append([periods[p_index + 2][-2], periods[p_index + 2][-1]])\n",
        "        labels.append([periods[p_index + 3][-2], periods[p_index + 3][-1]])\n",
        "    #TODO(Cibely): verify that len(features) == len(labels) must be true\n",
        "\n",
        "    return features, labels\n",
        "\n",
        "\n",
        "def generate_final_features(dataset):\n",
        "    \"\"\"\n",
        "    function that generate the final dataset\n",
        "\n",
        "    Args:\n",
        "        dataset (pd.DataFrame): dataframe with the data\n",
        "\n",
        "    Returns:\n",
        "        final_dataset (list): list with the final dataset\n",
        "    \"\"\"\n",
        "\n",
        "    dataset_with_datatime = calculate_datatime(dataset)\n",
        "\n",
        "    return prepared_the_features(dataset_with_datatime)\n",
        "\n",
        "def split_dataset(features, labels, test_size=0.2, random_state=0, reshape=True):\n",
        "    \"\"\"\n",
        "    function that split the dataset\n",
        "\n",
        "    Args:\n",
        "        features (np.array): array with the features\n",
        "        labels (np.array): array with the labels\n",
        "        test_size (float): percentage of the test size\n",
        "        random_state (int): random state\n",
        "\n",
        "    Returns:\n",
        "        train_features (np.array): array with the train features\n",
        "        test_features (np.array): array with the test features\n",
        "        train_labels (np.array): array with the train labels\n",
        "        test_labels (np.array): array with the test labels\n",
        "    \"\"\"\n",
        "\n",
        "\n",
        "    train_features, test_features, train_labels, test_labels = train_test_split(features, labels, test_size=test_size, random_state=random_state)\n",
        "    train_features = np.array(train_features)\n",
        "    test_features = np.array(test_features)\n",
        "    train_labels = np.array(train_labels)\n",
        "    test_labels = np.array(test_labels)\n",
        "    if reshape:\n",
        "        train_features = train_features.reshape(train_features.shape[0], train_features.shape[1]*train_features.shape[2])\n",
        "        test_features = test_features.reshape(test_features.shape[0], test_features.shape[1]*test_features.shape[2])\n",
        "        train_labels = train_labels.reshape(train_labels.shape[0], train_labels.shape[1]*1)\n",
        "        test_labels = test_labels.reshape(test_labels.shape[0], test_labels.shape[1]*1)\n",
        "\n",
        "    return train_features, test_features, train_labels, test_labels\n",
        "\n",
        "def create_dataset(dataset, look_back=1):\n",
        "    \"\"\"\n",
        "        This function is used to create dataset for LSTM model\n",
        "        Args:\n",
        "            dataset: The dataset\n",
        "            look_back: The number of previous time steps to use as input variables to predict the next time period\n",
        "        Returns:\n",
        "            dataX: The input data\n",
        "            dataY: The output data\n",
        "    \"\"\"\n",
        "    dataX, dataY = [], []\n",
        "    for i in range(len(dataset)-look_back-1):\n",
        "        a = dataset[i:(i+look_back), 0]\n",
        "        dataX.append(a)\n",
        "        dataY.append(dataset[i + look_back, 0])\n",
        "    return np.array(dataX), np.array(dataY)\n",
        "\n",
        "\n",
        "def convet2dataframe(data, columns):\n",
        "    \"\"\"\n",
        "    function that convert the data to dataframe\n",
        "\n",
        "    Args:\n",
        "        data (np.array): array with the data\n",
        "        columns (list): list with the columns\n",
        "\n",
        "    Returns:\n",
        "\n",
        "    \"\"\"\n",
        "    data = data.reshape(1,-1,2)\n",
        "    data_frame = pd.DataFrame(data[0], columns=columns)\n",
        "    data_frame['time'] = data_frame.index\n",
        "    return data_frame"
      ],
      "metadata": {
        "id": "N2xzhafZFeXP"
      },
      "execution_count": null,
      "outputs": []
    },
    {
      "cell_type": "code",
      "source": [
        "total_regular_cycle_data = pd.read_csv(\"https://raw.githubusercontent.com/DodyNaufal/Bike_Sharing_Dataset/main/total_regular_cycle_data.csv\")"
      ],
      "metadata": {
        "id": "6w8J1wFa9kHR"
      },
      "execution_count": null,
      "outputs": []
    },
    {
      "cell_type": "code",
      "source": [
        "total_regular_cycle_data.head()"
      ],
      "metadata": {
        "id": "69vpvvZKAGvE",
        "colab": {
          "base_uri": "https://localhost:8080/",
          "height": 206
        },
        "outputId": "a625062b-4abd-45ed-be3c-38050abc835b"
      },
      "execution_count": null,
      "outputs": [
        {
          "output_type": "execute_result",
          "data": {
            "text/plain": [
              "   M  Day  Year Duration\n",
              "0  1   25  2021   Starts\n",
              "1  1   30  2021     Ends\n",
              "2  2   24  2021   Starts\n",
              "3  3    1  2021     Ends\n",
              "4  3   26  2021   Starts"
            ],
            "text/html": [
              "\n",
              "  <div id=\"df-e6a3cc2a-f6a2-4d55-97fc-8698fa741408\" class=\"colab-df-container\">\n",
              "    <div>\n",
              "<style scoped>\n",
              "    .dataframe tbody tr th:only-of-type {\n",
              "        vertical-align: middle;\n",
              "    }\n",
              "\n",
              "    .dataframe tbody tr th {\n",
              "        vertical-align: top;\n",
              "    }\n",
              "\n",
              "    .dataframe thead th {\n",
              "        text-align: right;\n",
              "    }\n",
              "</style>\n",
              "<table border=\"1\" class=\"dataframe\">\n",
              "  <thead>\n",
              "    <tr style=\"text-align: right;\">\n",
              "      <th></th>\n",
              "      <th>M</th>\n",
              "      <th>Day</th>\n",
              "      <th>Year</th>\n",
              "      <th>Duration</th>\n",
              "    </tr>\n",
              "  </thead>\n",
              "  <tbody>\n",
              "    <tr>\n",
              "      <th>0</th>\n",
              "      <td>1</td>\n",
              "      <td>25</td>\n",
              "      <td>2021</td>\n",
              "      <td>Starts</td>\n",
              "    </tr>\n",
              "    <tr>\n",
              "      <th>1</th>\n",
              "      <td>1</td>\n",
              "      <td>30</td>\n",
              "      <td>2021</td>\n",
              "      <td>Ends</td>\n",
              "    </tr>\n",
              "    <tr>\n",
              "      <th>2</th>\n",
              "      <td>2</td>\n",
              "      <td>24</td>\n",
              "      <td>2021</td>\n",
              "      <td>Starts</td>\n",
              "    </tr>\n",
              "    <tr>\n",
              "      <th>3</th>\n",
              "      <td>3</td>\n",
              "      <td>1</td>\n",
              "      <td>2021</td>\n",
              "      <td>Ends</td>\n",
              "    </tr>\n",
              "    <tr>\n",
              "      <th>4</th>\n",
              "      <td>3</td>\n",
              "      <td>26</td>\n",
              "      <td>2021</td>\n",
              "      <td>Starts</td>\n",
              "    </tr>\n",
              "  </tbody>\n",
              "</table>\n",
              "</div>\n",
              "    <div class=\"colab-df-buttons\">\n",
              "\n",
              "  <div class=\"colab-df-container\">\n",
              "    <button class=\"colab-df-convert\" onclick=\"convertToInteractive('df-e6a3cc2a-f6a2-4d55-97fc-8698fa741408')\"\n",
              "            title=\"Convert this dataframe to an interactive table.\"\n",
              "            style=\"display:none;\">\n",
              "\n",
              "  <svg xmlns=\"http://www.w3.org/2000/svg\" height=\"24px\" viewBox=\"0 -960 960 960\">\n",
              "    <path d=\"M120-120v-720h720v720H120Zm60-500h600v-160H180v160Zm220 220h160v-160H400v160Zm0 220h160v-160H400v160ZM180-400h160v-160H180v160Zm440 0h160v-160H620v160ZM180-180h160v-160H180v160Zm440 0h160v-160H620v160Z\"/>\n",
              "  </svg>\n",
              "    </button>\n",
              "\n",
              "  <style>\n",
              "    .colab-df-container {\n",
              "      display:flex;\n",
              "      gap: 12px;\n",
              "    }\n",
              "\n",
              "    .colab-df-convert {\n",
              "      background-color: #E8F0FE;\n",
              "      border: none;\n",
              "      border-radius: 50%;\n",
              "      cursor: pointer;\n",
              "      display: none;\n",
              "      fill: #1967D2;\n",
              "      height: 32px;\n",
              "      padding: 0 0 0 0;\n",
              "      width: 32px;\n",
              "    }\n",
              "\n",
              "    .colab-df-convert:hover {\n",
              "      background-color: #E2EBFA;\n",
              "      box-shadow: 0px 1px 2px rgba(60, 64, 67, 0.3), 0px 1px 3px 1px rgba(60, 64, 67, 0.15);\n",
              "      fill: #174EA6;\n",
              "    }\n",
              "\n",
              "    .colab-df-buttons div {\n",
              "      margin-bottom: 4px;\n",
              "    }\n",
              "\n",
              "    [theme=dark] .colab-df-convert {\n",
              "      background-color: #3B4455;\n",
              "      fill: #D2E3FC;\n",
              "    }\n",
              "\n",
              "    [theme=dark] .colab-df-convert:hover {\n",
              "      background-color: #434B5C;\n",
              "      box-shadow: 0px 1px 3px 1px rgba(0, 0, 0, 0.15);\n",
              "      filter: drop-shadow(0px 1px 2px rgba(0, 0, 0, 0.3));\n",
              "      fill: #FFFFFF;\n",
              "    }\n",
              "  </style>\n",
              "\n",
              "    <script>\n",
              "      const buttonEl =\n",
              "        document.querySelector('#df-e6a3cc2a-f6a2-4d55-97fc-8698fa741408 button.colab-df-convert');\n",
              "      buttonEl.style.display =\n",
              "        google.colab.kernel.accessAllowed ? 'block' : 'none';\n",
              "\n",
              "      async function convertToInteractive(key) {\n",
              "        const element = document.querySelector('#df-e6a3cc2a-f6a2-4d55-97fc-8698fa741408');\n",
              "        const dataTable =\n",
              "          await google.colab.kernel.invokeFunction('convertToInteractive',\n",
              "                                                    [key], {});\n",
              "        if (!dataTable) return;\n",
              "\n",
              "        const docLinkHtml = 'Like what you see? Visit the ' +\n",
              "          '<a target=\"_blank\" href=https://colab.research.google.com/notebooks/data_table.ipynb>data table notebook</a>'\n",
              "          + ' to learn more about interactive tables.';\n",
              "        element.innerHTML = '';\n",
              "        dataTable['output_type'] = 'display_data';\n",
              "        await google.colab.output.renderOutput(dataTable, element);\n",
              "        const docLink = document.createElement('div');\n",
              "        docLink.innerHTML = docLinkHtml;\n",
              "        element.appendChild(docLink);\n",
              "      }\n",
              "    </script>\n",
              "  </div>\n",
              "\n",
              "\n",
              "<div id=\"df-fb01281e-bcb6-49c7-868e-77db5b936489\">\n",
              "  <button class=\"colab-df-quickchart\" onclick=\"quickchart('df-fb01281e-bcb6-49c7-868e-77db5b936489')\"\n",
              "            title=\"Suggest charts\"\n",
              "            style=\"display:none;\">\n",
              "\n",
              "<svg xmlns=\"http://www.w3.org/2000/svg\" height=\"24px\"viewBox=\"0 0 24 24\"\n",
              "     width=\"24px\">\n",
              "    <g>\n",
              "        <path d=\"M19 3H5c-1.1 0-2 .9-2 2v14c0 1.1.9 2 2 2h14c1.1 0 2-.9 2-2V5c0-1.1-.9-2-2-2zM9 17H7v-7h2v7zm4 0h-2V7h2v10zm4 0h-2v-4h2v4z\"/>\n",
              "    </g>\n",
              "</svg>\n",
              "  </button>\n",
              "\n",
              "<style>\n",
              "  .colab-df-quickchart {\n",
              "      --bg-color: #E8F0FE;\n",
              "      --fill-color: #1967D2;\n",
              "      --hover-bg-color: #E2EBFA;\n",
              "      --hover-fill-color: #174EA6;\n",
              "      --disabled-fill-color: #AAA;\n",
              "      --disabled-bg-color: #DDD;\n",
              "  }\n",
              "\n",
              "  [theme=dark] .colab-df-quickchart {\n",
              "      --bg-color: #3B4455;\n",
              "      --fill-color: #D2E3FC;\n",
              "      --hover-bg-color: #434B5C;\n",
              "      --hover-fill-color: #FFFFFF;\n",
              "      --disabled-bg-color: #3B4455;\n",
              "      --disabled-fill-color: #666;\n",
              "  }\n",
              "\n",
              "  .colab-df-quickchart {\n",
              "    background-color: var(--bg-color);\n",
              "    border: none;\n",
              "    border-radius: 50%;\n",
              "    cursor: pointer;\n",
              "    display: none;\n",
              "    fill: var(--fill-color);\n",
              "    height: 32px;\n",
              "    padding: 0;\n",
              "    width: 32px;\n",
              "  }\n",
              "\n",
              "  .colab-df-quickchart:hover {\n",
              "    background-color: var(--hover-bg-color);\n",
              "    box-shadow: 0 1px 2px rgba(60, 64, 67, 0.3), 0 1px 3px 1px rgba(60, 64, 67, 0.15);\n",
              "    fill: var(--button-hover-fill-color);\n",
              "  }\n",
              "\n",
              "  .colab-df-quickchart-complete:disabled,\n",
              "  .colab-df-quickchart-complete:disabled:hover {\n",
              "    background-color: var(--disabled-bg-color);\n",
              "    fill: var(--disabled-fill-color);\n",
              "    box-shadow: none;\n",
              "  }\n",
              "\n",
              "  .colab-df-spinner {\n",
              "    border: 2px solid var(--fill-color);\n",
              "    border-color: transparent;\n",
              "    border-bottom-color: var(--fill-color);\n",
              "    animation:\n",
              "      spin 1s steps(1) infinite;\n",
              "  }\n",
              "\n",
              "  @keyframes spin {\n",
              "    0% {\n",
              "      border-color: transparent;\n",
              "      border-bottom-color: var(--fill-color);\n",
              "      border-left-color: var(--fill-color);\n",
              "    }\n",
              "    20% {\n",
              "      border-color: transparent;\n",
              "      border-left-color: var(--fill-color);\n",
              "      border-top-color: var(--fill-color);\n",
              "    }\n",
              "    30% {\n",
              "      border-color: transparent;\n",
              "      border-left-color: var(--fill-color);\n",
              "      border-top-color: var(--fill-color);\n",
              "      border-right-color: var(--fill-color);\n",
              "    }\n",
              "    40% {\n",
              "      border-color: transparent;\n",
              "      border-right-color: var(--fill-color);\n",
              "      border-top-color: var(--fill-color);\n",
              "    }\n",
              "    60% {\n",
              "      border-color: transparent;\n",
              "      border-right-color: var(--fill-color);\n",
              "    }\n",
              "    80% {\n",
              "      border-color: transparent;\n",
              "      border-right-color: var(--fill-color);\n",
              "      border-bottom-color: var(--fill-color);\n",
              "    }\n",
              "    90% {\n",
              "      border-color: transparent;\n",
              "      border-bottom-color: var(--fill-color);\n",
              "    }\n",
              "  }\n",
              "</style>\n",
              "\n",
              "  <script>\n",
              "    async function quickchart(key) {\n",
              "      const quickchartButtonEl =\n",
              "        document.querySelector('#' + key + ' button');\n",
              "      quickchartButtonEl.disabled = true;  // To prevent multiple clicks.\n",
              "      quickchartButtonEl.classList.add('colab-df-spinner');\n",
              "      try {\n",
              "        const charts = await google.colab.kernel.invokeFunction(\n",
              "            'suggestCharts', [key], {});\n",
              "      } catch (error) {\n",
              "        console.error('Error during call to suggestCharts:', error);\n",
              "      }\n",
              "      quickchartButtonEl.classList.remove('colab-df-spinner');\n",
              "      quickchartButtonEl.classList.add('colab-df-quickchart-complete');\n",
              "    }\n",
              "    (() => {\n",
              "      let quickchartButtonEl =\n",
              "        document.querySelector('#df-fb01281e-bcb6-49c7-868e-77db5b936489 button');\n",
              "      quickchartButtonEl.style.display =\n",
              "        google.colab.kernel.accessAllowed ? 'block' : 'none';\n",
              "    })();\n",
              "  </script>\n",
              "</div>\n",
              "    </div>\n",
              "  </div>\n"
            ],
            "application/vnd.google.colaboratory.intrinsic+json": {
              "type": "dataframe",
              "variable_name": "total_regular_cycle_data",
              "summary": "{\n  \"name\": \"total_regular_cycle_data\",\n  \"rows\": 50,\n  \"fields\": [\n    {\n      \"column\": \"M\",\n      \"properties\": {\n        \"dtype\": \"number\",\n        \"std\": 3,\n        \"min\": 1,\n        \"max\": 12,\n        \"num_unique_values\": 12,\n        \"samples\": [\n          11,\n          10,\n          1\n        ],\n        \"semantic_type\": \"\",\n        \"description\": \"\"\n      }\n    },\n    {\n      \"column\": \"Day\",\n      \"properties\": {\n        \"dtype\": \"number\",\n        \"std\": 8,\n        \"min\": 1,\n        \"max\": 31,\n        \"num_unique_values\": 26,\n        \"samples\": [\n          21,\n          10,\n          25\n        ],\n        \"semantic_type\": \"\",\n        \"description\": \"\"\n      }\n    },\n    {\n      \"column\": \"Year\",\n      \"properties\": {\n        \"dtype\": \"number\",\n        \"std\": 0,\n        \"min\": 2021,\n        \"max\": 2022,\n        \"num_unique_values\": 2,\n        \"samples\": [\n          2022,\n          2021\n        ],\n        \"semantic_type\": \"\",\n        \"description\": \"\"\n      }\n    },\n    {\n      \"column\": \"Duration\",\n      \"properties\": {\n        \"dtype\": \"category\",\n        \"num_unique_values\": 2,\n        \"samples\": [\n          \"Ends\",\n          \"Starts\"\n        ],\n        \"semantic_type\": \"\",\n        \"description\": \"\"\n      }\n    }\n  ]\n}"
            }
          },
          "metadata": {},
          "execution_count": 30
        }
      ]
    },
    {
      "cell_type": "code",
      "source": [
        "# generate the final features\n",
        "features_total_regular_cycle_data, labels_total_regular_cycle_data = generate_final_features(total_regular_cycle_data)"
      ],
      "metadata": {
        "id": "fo12X1BpA1RU"
      },
      "execution_count": null,
      "outputs": []
    },
    {
      "cell_type": "code",
      "source": [
        "# slice the data with split_dataset function\n",
        "input_train_total_regular_cycle, input_test_total_regular_cycle, output_train_total_regular_cycle, output_test_total_regular_cycle = split_dataset(features_total_regular_cycle_data, labels_total_regular_cycle_data, reshape=False)"
      ],
      "metadata": {
        "id": "sgMbNmcbFwfi"
      },
      "execution_count": null,
      "outputs": []
    },
    {
      "cell_type": "code",
      "source": [
        "plt.plot(np.arange(16),input_train_total_regular_cycle[:,0,0], '->')\n",
        "plt.plot(np.arange(16, 2*16),output_train_total_regular_cycle[:,0], '-o')"
      ],
      "metadata": {
        "colab": {
          "base_uri": "https://localhost:8080/",
          "height": 447
        },
        "id": "KSMLvPE3F2iS",
        "outputId": "5371375c-50f8-400a-960f-5aa554d9ae61"
      },
      "execution_count": null,
      "outputs": [
        {
          "output_type": "execute_result",
          "data": {
            "text/plain": [
              "[<matplotlib.lines.Line2D at 0x7cb198b0c2b0>]"
            ]
          },
          "metadata": {},
          "execution_count": 33
        },
        {
          "output_type": "display_data",
          "data": {
            "text/plain": [
              "<Figure size 640x480 with 1 Axes>"
            ],
            "image/png": "[encoded data removed]"
          },
          "metadata": {}
        }
      ]
    },
    {
      "cell_type": "code",
      "source": [
        "# create and fit the LSTM network\n",
        "n_features = input_train_total_regular_cycle.shape[2]\n",
        "model = Sequential()\n",
        "model.add(LSTM(64, input_shape=(3, n_features),  activation='tanh'))\n",
        "model.add(Dropout(0.05))\n",
        "model.add(Dense(n_features, activation='relu'))\n",
        "model.summary()"
      ],
      "metadata": {
        "colab": {
          "base_uri": "https://localhost:8080/"
        },
        "id": "2-OM1IUQGC9e",
        "outputId": "c19c48a3-73ed-409c-e866-bee2824dfc1b"
      },
      "execution_count": null,
      "outputs": [
        {
          "output_type": "stream",
          "name": "stdout",
          "text": [
            "Model: \"sequential\"\n",
            "_________________________________________________________________\n",
            " Layer (type)                Output Shape              Param #   \n",
            "=================================================================\n",
            " lstm (LSTM)                 (None, 64)                17152     \n",
            "                                                                 \n",
            " dropout (Dropout)           (None, 64)                0         \n",
            "                                                                 \n",
            " dense (Dense)               (None, 2)                 130       \n",
            "                                                                 \n",
            "=================================================================\n",
            "Total params: 17282 (67.51 KB)\n",
            "Trainable params: 17282 (67.51 KB)\n",
            "Non-trainable params: 0 (0.00 Byte)\n",
            "_________________________________________________________________\n"
          ]
        }
      ]
    },
    {
      "cell_type": "code",
      "source": [
        "opt=tf.keras.optimizers.Adam(learning_rate=0.01)\n",
        "model.compile(loss='mean_squared_error', optimizer=opt, run_eagerly=True)\n",
        "# add early stopping\n",
        "early_stopping = tf.keras.callbacks.EarlyStopping( monitor='val_loss', patience=5, restore_best_weights=True)"
      ],
      "metadata": {
        "id": "o7Bzw7bAGHtf"
      },
      "execution_count": null,
      "outputs": []
    },
    {
      "cell_type": "code",
      "source": [
        "history = model.fit(input_train_total_regular_cycle, output_train_total_regular_cycle, epochs=100, batch_size=32, validation_split=0.2, verbose=1, callbacks=[early_stopping])"
      ],
      "metadata": {
        "colab": {
          "base_uri": "https://localhost:8080/"
        },
        "id": "PHTB_A5DGJvm",
        "outputId": "8bde0919-0fd1-4ce9-cbd3-cde608cb1d15"
      },
      "execution_count": null,
      "outputs": [
        {
          "output_type": "stream",
          "name": "stdout",
          "text": [
            "Epoch 1/100\n",
            "1/1 [==============================] - 1s 614ms/step - loss: 421.3879 - val_loss: 405.4085\n",
            "Epoch 2/100\n",
            "1/1 [==============================] - 0s 152ms/step - loss: 395.0409 - val_loss: 379.3830\n",
            "Epoch 3/100\n",
            "1/1 [==============================] - 0s 101ms/step - loss: 367.4880 - val_loss: 352.7260\n",
            "Epoch 4/100\n",
            "1/1 [==============================] - 0s 94ms/step - loss: 343.2188 - val_loss: 324.3387\n",
            "Epoch 5/100\n",
            "1/1 [==============================] - 0s 93ms/step - loss: 315.5027 - val_loss: 293.5315\n",
            "Epoch 6/100\n",
            "1/1 [==============================] - 0s 92ms/step - loss: 284.9681 - val_loss: 261.5034\n",
            "Epoch 7/100\n",
            "1/1 [==============================] - 0s 95ms/step - loss: 249.9832 - val_loss: 231.3954\n",
            "Epoch 8/100\n",
            "1/1 [==============================] - 0s 103ms/step - loss: 225.3268 - val_loss: 206.2466\n",
            "Epoch 9/100\n",
            "1/1 [==============================] - 0s 150ms/step - loss: 199.0736 - val_loss: 186.5817\n",
            "Epoch 10/100\n",
            "1/1 [==============================] - 0s 145ms/step - loss: 177.6029 - val_loss: 171.0003\n",
            "Epoch 11/100\n",
            "1/1 [==============================] - 0s 97ms/step - loss: 163.3928 - val_loss: 158.0464\n",
            "Epoch 12/100\n",
            "1/1 [==============================] - 0s 107ms/step - loss: 149.6211 - val_loss: 146.8133\n",
            "Epoch 13/100\n",
            "1/1 [==============================] - 0s 106ms/step - loss: 141.2365 - val_loss: 136.7780\n",
            "Epoch 14/100\n",
            "1/1 [==============================] - 0s 99ms/step - loss: 130.2912 - val_loss: 127.5332\n",
            "Epoch 15/100\n",
            "1/1 [==============================] - 0s 105ms/step - loss: 119.6747 - val_loss: 118.8940\n",
            "Epoch 16/100\n",
            "1/1 [==============================] - 0s 103ms/step - loss: 113.7987 - val_loss: 110.8474\n",
            "Epoch 17/100\n",
            "1/1 [==============================] - 0s 141ms/step - loss: 104.8447 - val_loss: 103.3272\n",
            "Epoch 18/100\n",
            "1/1 [==============================] - 0s 92ms/step - loss: 96.1253 - val_loss: 96.1972\n",
            "Epoch 19/100\n",
            "1/1 [==============================] - 0s 97ms/step - loss: 92.1066 - val_loss: 89.3444\n",
            "Epoch 20/100\n",
            "1/1 [==============================] - 0s 104ms/step - loss: 84.9669 - val_loss: 82.7262\n",
            "Epoch 21/100\n",
            "1/1 [==============================] - 0s 101ms/step - loss: 75.8473 - val_loss: 76.3001\n",
            "Epoch 22/100\n",
            "1/1 [==============================] - 0s 94ms/step - loss: 71.8914 - val_loss: 70.0276\n",
            "Epoch 23/100\n",
            "1/1 [==============================] - 0s 96ms/step - loss: 64.7050 - val_loss: 63.8919\n",
            "Epoch 24/100\n",
            "1/1 [==============================] - 0s 94ms/step - loss: 60.0178 - val_loss: 57.9189\n",
            "Epoch 25/100\n",
            "1/1 [==============================] - 0s 92ms/step - loss: 53.1802 - val_loss: 52.2455\n",
            "Epoch 26/100\n",
            "1/1 [==============================] - 0s 135ms/step - loss: 45.6059 - val_loss: 47.0801\n",
            "Epoch 27/100\n",
            "1/1 [==============================] - 0s 107ms/step - loss: 42.3403 - val_loss: 42.4805\n",
            "Epoch 28/100\n",
            "1/1 [==============================] - 0s 176ms/step - loss: 37.7572 - val_loss: 38.3543\n",
            "Epoch 29/100\n",
            "1/1 [==============================] - 0s 163ms/step - loss: 33.9624 - val_loss: 34.5978\n",
            "Epoch 30/100\n",
            "1/1 [==============================] - 0s 182ms/step - loss: 32.5812 - val_loss: 31.1373\n",
            "Epoch 31/100\n",
            "1/1 [==============================] - 0s 126ms/step - loss: 32.0331 - val_loss: 27.9218\n",
            "Epoch 32/100\n",
            "1/1 [==============================] - 0s 130ms/step - loss: 23.2943 - val_loss: 24.9338\n",
            "Epoch 33/100\n",
            "1/1 [==============================] - 0s 167ms/step - loss: 23.2327 - val_loss: 22.1392\n",
            "Epoch 34/100\n",
            "1/1 [==============================] - 0s 167ms/step - loss: 17.8877 - val_loss: 19.5369\n",
            "Epoch 35/100\n",
            "1/1 [==============================] - 0s 163ms/step - loss: 18.6132 - val_loss: 17.1291\n",
            "Epoch 36/100\n",
            "1/1 [==============================] - 0s 126ms/step - loss: 12.8907 - val_loss: 14.9421\n",
            "Epoch 37/100\n",
            "1/1 [==============================] - 0s 176ms/step - loss: 11.8647 - val_loss: 12.9703\n",
            "Epoch 38/100\n",
            "1/1 [==============================] - 0s 180ms/step - loss: 11.2987 - val_loss: 11.1925\n",
            "Epoch 39/100\n",
            "1/1 [==============================] - 0s 179ms/step - loss: 11.3507 - val_loss: 9.5929\n",
            "Epoch 40/100\n",
            "1/1 [==============================] - 0s 145ms/step - loss: 7.9506 - val_loss: 8.1644\n",
            "Epoch 41/100\n",
            "1/1 [==============================] - 0s 184ms/step - loss: 7.2212 - val_loss: 6.9109\n",
            "Epoch 42/100\n",
            "1/1 [==============================] - 0s 127ms/step - loss: 5.1191 - val_loss: 5.8346\n",
            "Epoch 43/100\n",
            "1/1 [==============================] - 0s 100ms/step - loss: 3.6280 - val_loss: 4.9137\n",
            "Epoch 44/100\n",
            "1/1 [==============================] - 0s 100ms/step - loss: 4.8522 - val_loss: 4.1241\n",
            "Epoch 45/100\n",
            "1/1 [==============================] - 0s 98ms/step - loss: 3.8440 - val_loss: 3.4422\n",
            "Epoch 46/100\n",
            "1/1 [==============================] - 0s 132ms/step - loss: 3.9613 - val_loss: 2.8516\n",
            "Epoch 47/100\n",
            "1/1 [==============================] - 0s 139ms/step - loss: 3.1462 - val_loss: 2.3448\n",
            "Epoch 48/100\n",
            "1/1 [==============================] - 0s 104ms/step - loss: 1.9830 - val_loss: 1.9153\n",
            "Epoch 49/100\n",
            "1/1 [==============================] - 0s 134ms/step - loss: 1.7194 - val_loss: 1.5505\n",
            "Epoch 50/100\n",
            "1/1 [==============================] - 0s 99ms/step - loss: 1.8436 - val_loss: 1.2434\n",
            "Epoch 51/100\n",
            "1/1 [==============================] - 0s 95ms/step - loss: 1.4076 - val_loss: 0.9899\n",
            "Epoch 52/100\n",
            "1/1 [==============================] - 0s 95ms/step - loss: 1.2572 - val_loss: 0.7840\n",
            "Epoch 53/100\n",
            "1/1 [==============================] - 0s 93ms/step - loss: 0.6013 - val_loss: 0.6275\n",
            "Epoch 54/100\n",
            "1/1 [==============================] - 0s 133ms/step - loss: 0.6809 - val_loss: 0.5305\n",
            "Epoch 55/100\n",
            "1/1 [==============================] - 0s 102ms/step - loss: 1.6319 - val_loss: 0.4679\n",
            "Epoch 56/100\n",
            "1/1 [==============================] - 0s 97ms/step - loss: 1.3701 - val_loss: 0.4305\n",
            "Epoch 57/100\n",
            "1/1 [==============================] - 0s 107ms/step - loss: 1.0197 - val_loss: 0.4079\n",
            "Epoch 58/100\n",
            "1/1 [==============================] - 0s 105ms/step - loss: 1.3514 - val_loss: 0.3920\n",
            "Epoch 59/100\n",
            "1/1 [==============================] - 0s 146ms/step - loss: 1.2946 - val_loss: 0.3798\n",
            "Epoch 60/100\n",
            "1/1 [==============================] - 0s 92ms/step - loss: 0.4694 - val_loss: 0.3717\n",
            "Epoch 61/100\n",
            "1/1 [==============================] - 0s 90ms/step - loss: 1.0566 - val_loss: 0.3659\n",
            "Epoch 62/100\n",
            "1/1 [==============================] - 0s 90ms/step - loss: 0.6493 - val_loss: 0.3664\n",
            "Epoch 63/100\n",
            "1/1 [==============================] - 0s 99ms/step - loss: 1.0626 - val_loss: 0.3721\n",
            "Epoch 64/100\n",
            "1/1 [==============================] - 0s 134ms/step - loss: 1.0911 - val_loss: 0.3820\n",
            "Epoch 65/100\n",
            "1/1 [==============================] - 0s 90ms/step - loss: 1.9230 - val_loss: 0.3906\n",
            "Epoch 66/100\n",
            "1/1 [==============================] - 0s 117ms/step - loss: 0.6472 - val_loss: 0.3993\n"
          ]
        }
      ]
    },
    {
      "cell_type": "code",
      "source": [
        "# plot the loss and val loss\n",
        "plt.figure(figsize=(4, 3))\n",
        "plt.plot(history.history['loss'], '-', linewidth=2)\n",
        "plt.plot(history.history['val_loss'], '--', linewidth=2)\n",
        "plt.grid(True)\n",
        "plt.legend(['Train', 'Validation'])\n",
        "plt.ylabel('Loss')\n",
        "plt.xlabel('Epoch')\n",
        "plt.title('Case 1: LSTM model loss')\n",
        "ax = plt.axes([0.6, 0.4, .20, .20])\n",
        "plt.plot(history.history['loss'], '-', linewidth=2)\n",
        "plt.plot(history.history['val_loss'], '--', linewidth=2)\n",
        "plt.grid(True)\n",
        "ax.set_ylim(0.1, 3)\n",
        "ax.set_xlim(70, 93)\n",
        "# save history\n",
        "history_df = pd.DataFrame(history.history)\n",
        "history_df.to_csv('case1_history_lstm.csv', index=False)\n"
      ],
      "metadata": {
        "colab": {
          "base_uri": "https://localhost:8080/",
          "height": 333
        },
        "id": "DSqkTAISGaWM",
        "outputId": "badfae33-40b2-4213-dcaf-86ce5952bc18"
      },
      "execution_count": null,
      "outputs": [
        {
          "output_type": "display_data",
          "data": {
            "text/plain": [
              "<Figure size 400x300 with 2 Axes>"
            ],
            "image/png": "[encoded data removed]"
          },
          "metadata": {}
        }
      ]
    },
    {
      "cell_type": "code",
      "source": [
        "# make predictions\n",
        "trainPredict = model.predict(input_train_total_regular_cycle)\n",
        "testPredict = model.predict(input_test_total_regular_cycle)\n",
        "testPredict = np.round(testPredict)"
      ],
      "metadata": {
        "colab": {
          "base_uri": "https://localhost:8080/"
        },
        "id": "_TkNBpzDGtLi",
        "outputId": "3ae1714e-28b1-4b91-972a-0aa92f0014de"
      },
      "execution_count": null,
      "outputs": [
        {
          "output_type": "stream",
          "name": "stdout",
          "text": [
            "1/1 [==============================] - 0s 63ms/step\n",
            "1/1 [==============================] - 0s 105ms/step\n"
          ]
        }
      ]
    },
    {
      "cell_type": "code",
      "source": [
        "# calculate root mean squared error\n",
        "testScore = np.sqrt(mean_squared_error(output_test_total_regular_cycle, testPredict))\n",
        "print('Test Score: %.2f RMSE' % (testScore))\n",
        "\n",
        "# calculate mean absolute error\n",
        "testScore = mean_absolute_error(output_test_total_regular_cycle, testPredict)\n",
        "print('Test Score: %.2f MAE' % (testScore))\n",
        "\n",
        "# calculate r2 score\n",
        "testScore = r2_score(output_test_total_regular_cycle, testPredict)\n",
        "print('Test Score: %.2f R2' % (testScore))\n",
        "\n",
        "\n"
      ],
      "metadata": {
        "colab": {
          "base_uri": "https://localhost:8080/"
        },
        "id": "x997JccxGvrf",
        "outputId": "707512e5-6423-48a2-a40a-299f0fd381c6"
      },
      "execution_count": null,
      "outputs": [
        {
          "output_type": "stream",
          "name": "stdout",
          "text": [
            "Test Score: 0.55 RMSE\n",
            "Test Score: 0.30 MAE\n",
            "Test Score: 0.46 R2\n"
          ]
        }
      ]
    },
    {
      "cell_type": "code",
      "source": [
        "# plot baseline and predictions\n",
        "plt.figure(figsize=(4, 3))\n",
        "plt.plot(np.arange(5),output_test_total_regular_cycle[:,0], '-->', linewidth=2.0)\n",
        "plt.plot(np.arange(5, 6),testPredict[0,0], '-o')\n",
        "# round the number in axis\n",
        "plt.gca().yaxis.set_major_locator(plt.MaxNLocator(integer=True))\n",
        "plt.ylabel('Days')\n",
        "plt.xlabel('Cycle number')\n",
        "plt.legend(['Cycle duration', 'Prediction (LSTM)'])\n",
        "plt.title('Case 1: Predict the next cycle duration')\n",
        "plt.grid(True)\n",
        "plt.show()"
      ],
      "metadata": {
        "colab": {
          "base_uri": "https://localhost:8080/",
          "height": 333
        },
        "id": "CorvdI-YG0pv",
        "outputId": "ed63abf2-9660-4ccd-af27-9958e4133482"
      },
      "execution_count": null,
      "outputs": [
        {
          "output_type": "display_data",
          "data": {
            "text/plain": [
              "<Figure size 400x300 with 1 Axes>"
            ],
            "image/png": "[encoded data removed]"
          },
          "metadata": {}
        }
      ]
    },
    {
      "cell_type": "code",
      "source": [
        "plt.figure(figsize=(4, 3))\n",
        "plt.plot(np.arange(5),output_test_total_regular_cycle[:,1], '-->', linewidth=2.0)\n",
        "plt.plot(np.arange(5, 6),testPredict[0,1], '-o')\n",
        "# round the number in axis\n",
        "plt.gca().yaxis.set_major_locator(plt.MaxNLocator(integer=True))\n",
        "#set the y axis range\n",
        "plt.ylim(4, 6)\n",
        "plt.ylabel('Days')\n",
        "plt.xlabel('Periods number')\n",
        "plt.legend(['Period duration', 'Prediction (LSTM)'])\n",
        "plt.title('Case 1: Predict the next period duration')\n",
        "plt.grid(True)\n",
        "plt.show()"
      ],
      "metadata": {
        "colab": {
          "base_uri": "https://localhost:8080/",
          "height": 333
        },
        "id": "QCnP810DG4Ir",
        "outputId": "89a16cd4-6a14-434d-e7da-c00a8eab33e1"
      },
      "execution_count": null,
      "outputs": [
        {
          "output_type": "display_data",
          "data": {
            "text/plain": [
              "<Figure size 400x300 with 1 Axes>"
            ],
            "image/png": "[encoded data removed]"
          },
          "metadata": {}
        }
      ]
    }
  ]
}